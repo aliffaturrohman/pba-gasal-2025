{
 "cells": [
  {
   "cell_type": "code",
   "execution_count": 1,
   "id": "0112b573",
   "metadata": {},
   "outputs": [],
   "source": [
    "!pip install nltk spacy PySastrawi datasets -q"
   ]
  },
  {
   "cell_type": "code",
   "execution_count": 2,
   "id": "e459bae2",
   "metadata": {},
   "outputs": [
    {
     "name": "stderr",
     "output_type": "stream",
     "text": [
      "/home/aliffatur/miniconda3/envs/nlp_dsi/lib/python3.13/site-packages/tqdm/auto.py:21: TqdmWarning: IProgress not found. Please update jupyter and ipywidgets. See https://ipywidgets.readthedocs.io/en/stable/user_install.html\n",
      "  from .autonotebook import tqdm as notebook_tqdm\n",
      "[nltk_data] Downloading package punkt to /home/aliffatur/nltk_data...\n",
      "[nltk_data]   Unzipping tokenizers/punkt.zip.\n",
      "[nltk_data] Downloading package punkt_tab to\n",
      "[nltk_data]     /home/aliffatur/nltk_data...\n",
      "[nltk_data]   Unzipping tokenizers/punkt_tab.zip.\n"
     ]
    },
    {
     "data": {
      "text/plain": [
       "True"
      ]
     },
     "execution_count": 2,
     "metadata": {},
     "output_type": "execute_result"
    }
   ],
   "source": [
    "from datasets import load_dataset\n",
    "import nltk\n",
    "from nltk.tokenize import word_tokenize\n",
    "from Sastrawi.Stemmer.StemmerFactory import StemmerFactory\n",
    "nltk.download('punkt')\n",
    "nltk.download('punkt_tab')"
   ]
  },
  {
   "cell_type": "code",
   "execution_count": 7,
   "id": "c5b3c013",
   "metadata": {},
   "outputs": [
    {
     "name": "stdout",
     "output_type": "stream",
     "text": [
      "--2025-09-01 14:38:30--  https://raw.githubusercontent.com/IndoNLP/indonlu/refs/heads/master/dataset/smsa_doc-sentiment-prosa/train_preprocess.tsv\n",
      "Resolving raw.githubusercontent.com (raw.githubusercontent.com)... 2606:50c0:8003::154, 2606:50c0:8000::154, 2606:50c0:8001::154, ...\n",
      "Connecting to raw.githubusercontent.com (raw.githubusercontent.com)|2606:50c0:8003::154|:443... connected.\n",
      "HTTP request sent, awaiting response... 200 OK\n",
      "Length: 2186718 (2,1M) [text/plain]\n",
      "Saving to: ‘../data/raw/train_preprocess.tsv’\n",
      "\n",
      "train_preprocess.ts 100%[===================>]   2,08M  9,90MB/s    in 0,2s    \n",
      "\n",
      "2025-09-01 14:38:30 (9,90 MB/s) - ‘../data/raw/train_preprocess.tsv’ saved [2186718/2186718]\n",
      "\n",
      "--2025-09-01 14:38:32--  https://raw.githubusercontent.com/IndoNLP/indonlu/refs/heads/master/dataset/smsa_doc-sentiment-prosa/test_preprocess.tsv\n",
      "Resolving raw.githubusercontent.com (raw.githubusercontent.com)... 2606:50c0:8000::154, 2606:50c0:8002::154, 2606:50c0:8003::154, ...\n",
      "Connecting to raw.githubusercontent.com (raw.githubusercontent.com)|2606:50c0:8000::154|:443... connected.\n",
      "HTTP request sent, awaiting response... 200 OK\n",
      "Length: 75949 (74K) [text/plain]\n",
      "Saving to: ‘../data/raw/test_preprocess.tsv’\n",
      "\n",
      "test_preprocess.tsv 100%[===================>]  74,17K  --.-KB/s    in 0,04s   \n",
      "\n",
      "2025-09-01 14:38:32 (2,02 MB/s) - ‘../data/raw/test_preprocess.tsv’ saved [75949/75949]\n",
      "\n",
      "--2025-09-01 14:38:33--  https://raw.githubusercontent.com/IndoNLP/indonlu/refs/heads/master/dataset/smsa_doc-sentiment-prosa/valid_preprocess.tsv\n",
      "Resolving raw.githubusercontent.com (raw.githubusercontent.com)... 2606:50c0:8002::154, 2606:50c0:8000::154, 2606:50c0:8003::154, ...\n",
      "Connecting to raw.githubusercontent.com (raw.githubusercontent.com)|2606:50c0:8002::154|:443... connected.\n",
      "HTTP request sent, awaiting response... 200 OK\n",
      "Length: 246974 (241K) [text/plain]\n",
      "Saving to: ‘../data/raw/valid_preprocess.tsv’\n",
      "\n",
      "valid_preprocess.ts 100%[===================>] 241,19K  --.-KB/s    in 0,07s   \n",
      "\n",
      "2025-09-01 14:38:33 (3,36 MB/s) - ‘../data/raw/valid_preprocess.tsv’ saved [246974/246974]\n",
      "\n"
     ]
    }
   ],
   "source": [
    "!wget -P ../data/raw https://raw.githubusercontent.com/IndoNLP/indonlu/refs/heads/master/dataset/smsa_doc-sentiment-prosa/train_preprocess.tsv\n",
    "!wget -P ../data/raw https://raw.githubusercontent.com/IndoNLP/indonlu/refs/heads/master/dataset/smsa_doc-sentiment-prosa/test_preprocess.tsv\n",
    "!wget -P ../data/raw https://raw.githubusercontent.com/IndoNLP/indonlu/refs/heads/master/dataset/smsa_doc-sentiment-prosa/valid_preprocess.tsv"
   ]
  },
  {
   "cell_type": "code",
   "execution_count": 9,
   "id": "154f184e",
   "metadata": {},
   "outputs": [
    {
     "data": {
      "text/html": [
       "<div>\n",
       "<style scoped>\n",
       "    .dataframe tbody tr th:only-of-type {\n",
       "        vertical-align: middle;\n",
       "    }\n",
       "\n",
       "    .dataframe tbody tr th {\n",
       "        vertical-align: top;\n",
       "    }\n",
       "\n",
       "    .dataframe thead th {\n",
       "        text-align: right;\n",
       "    }\n",
       "</style>\n",
       "<table border=\"1\" class=\"dataframe\">\n",
       "  <thead>\n",
       "    <tr style=\"text-align: right;\">\n",
       "      <th></th>\n",
       "      <th>text</th>\n",
       "      <th>label</th>\n",
       "    </tr>\n",
       "  </thead>\n",
       "  <tbody>\n",
       "    <tr>\n",
       "      <th>0</th>\n",
       "      <td>warung ini dimiliki oleh pengusaha pabrik tahu...</td>\n",
       "      <td>positive</td>\n",
       "    </tr>\n",
       "    <tr>\n",
       "      <th>1</th>\n",
       "      <td>mohon ulama lurus dan k212 mmbri hujjah partai...</td>\n",
       "      <td>neutral</td>\n",
       "    </tr>\n",
       "    <tr>\n",
       "      <th>2</th>\n",
       "      <td>lokasi strategis di jalan sumatera bandung . t...</td>\n",
       "      <td>positive</td>\n",
       "    </tr>\n",
       "    <tr>\n",
       "      <th>3</th>\n",
       "      <td>betapa bahagia nya diri ini saat unboxing pake...</td>\n",
       "      <td>positive</td>\n",
       "    </tr>\n",
       "    <tr>\n",
       "      <th>4</th>\n",
       "      <td>duh . jadi mahasiswa jangan sombong dong . kas...</td>\n",
       "      <td>negative</td>\n",
       "    </tr>\n",
       "  </tbody>\n",
       "</table>\n",
       "</div>"
      ],
      "text/plain": [
       "                                                text     label\n",
       "0  warung ini dimiliki oleh pengusaha pabrik tahu...  positive\n",
       "1  mohon ulama lurus dan k212 mmbri hujjah partai...   neutral\n",
       "2  lokasi strategis di jalan sumatera bandung . t...  positive\n",
       "3  betapa bahagia nya diri ini saat unboxing pake...  positive\n",
       "4  duh . jadi mahasiswa jangan sombong dong . kas...  negative"
      ]
     },
     "execution_count": 9,
     "metadata": {},
     "output_type": "execute_result"
    }
   ],
   "source": [
    "import pandas as pd\n",
    "\n",
    "columns_name = ['text', 'label']\n",
    "df_train = pd.read_csv('../data/raw/train_preprocess.tsv', sep='\\t', header=None, names=columns_name)\n",
    "df_train.head()"
   ]
  },
  {
   "cell_type": "code",
   "execution_count": 10,
   "id": "7a1ebe57",
   "metadata": {},
   "outputs": [
    {
     "data": {
      "text/plain": [
       "(11000, 2)"
      ]
     },
     "execution_count": 10,
     "metadata": {},
     "output_type": "execute_result"
    }
   ],
   "source": [
    "df_train.shape"
   ]
  },
  {
   "cell_type": "code",
   "execution_count": 11,
   "id": "bfcea262",
   "metadata": {},
   "outputs": [],
   "source": [
    "# Pilih beberapa contoh teks\n",
    "sample_texts = df_train['text'][:3].tolist()  # Ambil 3 teks pertama\n",
    "labels = df_train['label'][:3].tolist()  # Ambil label sentimen"
   ]
  },
  {
   "cell_type": "code",
   "execution_count": null,
   "id": "195455d6",
   "metadata": {},
   "outputs": [
    {
     "name": "stdout",
     "output_type": "stream",
     "text": [
      "\n",
      "Contoh Teks 1 (Label: positive):\n",
      "Teks Asli: warung ini dimiliki oleh pengusaha pabrik tahu yang sudah puluhan tahun terkenal membuat tahu putih di bandung . tahu berkualitas , dipadu keahlian memasak , dipadu kretivitas , jadilah warung yang menyajikan menu utama berbahan tahu , ditambah menu umum lain seperti ayam . semuanya selera indonesia . harga cukup terjangkau . jangan lewatkan tahu bletoka nya , tidak kalah dengan yang asli dari tegal !\n",
      "Token: ['warung', 'ini', 'dimiliki', 'oleh', 'pengusaha', 'pabrik', 'tahu', 'yang', 'sudah', 'puluhan', 'tahun', 'terkenal', 'membuat', 'tahu', 'putih', 'di', 'bandung', '.', 'tahu', 'berkualitas', ',', 'dipadu', 'keahlian', 'memasak', ',', 'dipadu', 'kretivitas', ',', 'jadilah', 'warung', 'yang', 'menyajikan', 'menu', 'utama', 'berbahan', 'tahu', ',', 'ditambah', 'menu', 'umum', 'lain', 'seperti', 'ayam', '.', 'semuanya', 'selera', 'indonesia', '.', 'harga', 'cukup', 'terjangkau', '.', 'jangan', 'lewatkan', 'tahu', 'bletoka', 'nya', ',', 'tidak', 'kalah', 'dengan', 'yang', 'asli', 'dari', 'tegal', '!']\n",
      "Jumlah Token: 66\n",
      "Token Unik: 50\n",
      "Token setelah Stemming: ['warung', 'ini', 'milik', 'oleh', 'usaha', 'pabrik', 'tahu', 'yang', 'sudah', 'puluh', 'tahun', 'kenal', 'buat', 'tahu', 'putih', 'di', 'bandung', 'tahu', 'kualitas', 'padu', 'ahli', 'masak', 'padu', 'kretivitas', 'jadi', 'warung', 'yang', 'saji', 'menu', 'utama', 'bahan', 'tahu', 'tambah', 'menu', 'umum', 'lain', 'seperti', 'ayam', 'semua', 'selera', 'indonesia', 'harga', 'cukup', 'jangkau', 'jangan', 'lewat', 'tahu', 'bletoka', 'nya', 'tidak', 'kalah', 'dengan', 'yang', 'asli', 'dari', 'tegal']\n",
      "Jumlah Token setelah Stemming: 56\n",
      "Token disimpan ke tokens_sample_indonlu_smsa_1.txt\n",
      "\n",
      "Contoh Teks 2 (Label: neutral):\n",
      "Teks Asli: mohon ulama lurus dan k212 mmbri hujjah partai apa yang harus diwlh agar suara islam tidak pecah-pecah\n",
      "Token: ['mohon', 'ulama', 'lurus', 'dan', 'k212', 'mmbri', 'hujjah', 'partai', 'apa', 'yang', 'harus', 'diwlh', 'agar', 'suara', 'islam', 'tidak', 'pecah-pecah']\n",
      "Jumlah Token: 17\n",
      "Token Unik: 17\n",
      "Token setelah Stemming: ['mohon', 'ulama', 'lurus', 'dan', 'k212', 'mmbri', 'hujjah', 'partai', 'apa', 'yang', 'harus', 'diwlh', 'agar', 'suara', 'islam', 'tidak', 'pecah']\n",
      "Jumlah Token setelah Stemming: 17\n",
      "Token disimpan ke tokens_sample_indonlu_smsa_2.txt\n",
      "\n",
      "Contoh Teks 3 (Label: positive):\n",
      "Teks Asli: lokasi strategis di jalan sumatera bandung . tempat nya nyaman terutama sofa di lantai 2 . paella nya enak , sangat pas dimakan dengan minum bir dingin . appetiser nya juga enak-enak .\n",
      "Token: ['lokasi', 'strategis', 'di', 'jalan', 'sumatera', 'bandung', '.', 'tempat', 'nya', 'nyaman', 'terutama', 'sofa', 'di', 'lantai', '2', '.', 'paella', 'nya', 'enak', ',', 'sangat', 'pas', 'dimakan', 'dengan', 'minum', 'bir', 'dingin', '.', 'appetiser', 'nya', 'juga', 'enak-enak', '.']\n",
      "Jumlah Token: 33\n",
      "Token Unik: 27\n",
      "Token setelah Stemming: ['lokasi', 'strategis', 'di', 'jalan', 'sumatera', 'bandung', 'tempat', 'nya', 'nyaman', 'utama', 'sofa', 'di', 'lantai', '2', 'paella', 'nya', 'enak', 'sangat', 'pas', 'makan', 'dengan', 'minum', 'bir', 'dingin', 'appetiser', 'nya', 'juga', 'enak']\n",
      "Jumlah Token setelah Stemming: 28\n",
      "Token disimpan ke tokens_sample_indonlu_smsa_3.txt\n"
     ]
    }
   ],
   "source": [
    "stemmer = StemmerFactory().create_stemmer()\n",
    "\n",
    "# Tokenisasi dan analisis untuk setiap teks\n",
    "for i, text in enumerate(sample_texts):\n",
    "    print(f\"\\nContoh Teks {i+1} (Label: {labels[i]}):\")\n",
    "    print(\"Teks Asli:\", text)\n",
    "    \n",
    "    # Tokenisasi\n",
    "    tokens = word_tokenize(text)\n",
    "    print(\"Token:\", tokens)\n",
    "    print(\"Jumlah Token:\", len(tokens))\n",
    "    print(\"Token Unik:\", len(set(tokens)))\n",
    "    \n",
    "    # Stemming (opsional untuk analisis)\n",
    "    stemmed_text = stemmer.stem(text)\n",
    "    stemmed_tokens = word_tokenize(stemmed_text)\n",
    "    print(\"Token setelah Stemming:\", stemmed_tokens)\n",
    "    print(\"Jumlah Token setelah Stemming:\", len(stemmed_tokens))\n",
    "    \n",
    "    # Simpan token ke file\n",
    "    with open(f'../data/processed/tokens_sample_indonlu_smsa_{i+1}.txt', 'w', encoding='utf-8') as f:\n",
    "        f.write('\\n'.join(tokens))\n",
    "    print(f\"Token disimpan ke tokens_sample_indonlu_smsa_{i+1}.txt\")"
   ]
  }
 ],
 "metadata": {
  "kernelspec": {
   "display_name": "nlp_dsi",
   "language": "python",
   "name": "python3"
  },
  "language_info": {
   "codemirror_mode": {
    "name": "ipython",
    "version": 3
   },
   "file_extension": ".py",
   "mimetype": "text/x-python",
   "name": "python",
   "nbconvert_exporter": "python",
   "pygments_lexer": "ipython3",
   "version": "3.13.5"
  }
 },
 "nbformat": 4,
 "nbformat_minor": 5
}
